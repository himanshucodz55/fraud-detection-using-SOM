{
 "cells": [
  {
   "cell_type": "markdown",
   "metadata": {},
   "source": [
    "# Self Organizing Map"
   ]
  },
  {
   "cell_type": "markdown",
   "metadata": {},
   "source": [
    "### Importing the libraries"
   ]
  },
  {
   "cell_type": "code",
   "execution_count": 10,
   "metadata": {},
   "outputs": [],
   "source": [
    "import numpy as np\n",
    "import matplotlib.pyplot as plt\n",
    "import pandas as pd"
   ]
  },
  {
   "cell_type": "markdown",
   "metadata": {},
   "source": [
    "### importing the dataset"
   ]
  },
  {
   "cell_type": "code",
   "execution_count": 11,
   "metadata": {},
   "outputs": [],
   "source": [
    "dataset=pd.read_csv('Credit_Card_Applications.csv')"
   ]
  },
  {
   "cell_type": "code",
   "execution_count": 12,
   "metadata": {},
   "outputs": [],
   "source": [
    "X=dataset.iloc[:,:-1].values\n",
    "Y=dataset.iloc[:,-1].values"
   ]
  },
  {
   "cell_type": "markdown",
   "metadata": {},
   "source": [
    "### Feature Scaling"
   ]
  },
  {
   "cell_type": "code",
   "execution_count": 13,
   "metadata": {},
   "outputs": [],
   "source": [
    "from sklearn.preprocessing import MinMaxScaler\n",
    "sc=MinMaxScaler(feature_range=(0,1))\n",
    "X=sc.fit_transform(X)"
   ]
  },
  {
   "cell_type": "code",
   "execution_count": 14,
   "metadata": {},
   "outputs": [
    {
     "data": {
      "text/plain": [
       "array([[8.42681467e-01, 1.00000000e+00, 1.25263158e-01, ...,\n",
       "        5.00000000e-01, 5.00000000e-02, 1.21200000e-02],\n",
       "       [6.96090562e-01, 0.00000000e+00, 1.34135338e-01, ...,\n",
       "        5.00000000e-01, 8.00000000e-02, 0.00000000e+00],\n",
       "       [3.88981656e-01, 0.00000000e+00, 2.38045113e-01, ...,\n",
       "        5.00000000e-01, 1.40000000e-01, 0.00000000e+00],\n",
       "       ...,\n",
       "       [4.39420332e-01, 0.00000000e+00, 7.63909774e-02, ...,\n",
       "        5.00000000e-01, 5.00000000e-02, 0.00000000e+00],\n",
       "       [8.44034934e-01, 0.00000000e+00, 2.05563910e-01, ...,\n",
       "        5.00000000e-01, 6.00000000e-02, 1.10000000e-04],\n",
       "       [1.06907888e-01, 1.00000000e+00, 4.09774436e-01, ...,\n",
       "        0.00000000e+00, 2.80000000e-01, 0.00000000e+00]])"
      ]
     },
     "execution_count": 14,
     "metadata": {},
     "output_type": "execute_result"
    }
   ],
   "source": [
    "X"
   ]
  },
  {
   "cell_type": "markdown",
   "metadata": {},
   "source": [
    "### Tranning the som"
   ]
  },
  {
   "cell_type": "code",
   "execution_count": 15,
   "metadata": {},
   "outputs": [],
   "source": [
    "from minisom import MiniSom"
   ]
  },
  {
   "cell_type": "code",
   "execution_count": 16,
   "metadata": {},
   "outputs": [],
   "source": [
    "som=MiniSom(x=10,y=10,input_len=15,sigma=1.0,learning_rate=0.5)\n",
    "som.random_weights_init(X)\n",
    "som.train_random(data=X,num_iteration=100)"
   ]
  },
  {
   "cell_type": "markdown",
   "metadata": {},
   "source": [
    "### visualizing the results"
   ]
  },
  {
   "cell_type": "code",
   "execution_count": 17,
   "metadata": {},
   "outputs": [],
   "source": [
    "from pylab import bone, pcolor, colorbar, plot, show"
   ]
  },
  {
   "cell_type": "code",
   "execution_count": 18,
   "metadata": {},
   "outputs": [
    {
     "data": {
      "image/png": "[encoded data removed]",
      "text/plain": [
       "<Figure size 432x288 with 2 Axes>"
      ]
     },
     "metadata": {
      "needs_background": "light"
     },
     "output_type": "display_data"
    }
   ],
   "source": [
    "bone()\n",
    "pcolor(som.distance_map().T)\n",
    "colorbar()\n",
    "markers=['o','s']\n",
    "colors=['r','g']\n",
    "for i,x in enumerate(X):\n",
    "    w=som.winner(x)\n",
    "    plot(w[0]+0.5,\n",
    "         w[1]+0.5,\n",
    "         markers[Y[i]],\n",
    "         markeredgecolor=colors[Y[i]],\n",
    "         markerfacecolor='None',\n",
    "         markersize=10,\n",
    "         markeredgewidth=2\n",
    "        )\n",
    "show()    "
   ]
  },
  {
   "cell_type": "markdown",
   "metadata": {},
   "source": [
    "### finding the fraud"
   ]
  },
  {
   "cell_type": "code",
   "execution_count": 23,
   "metadata": {},
   "outputs": [],
   "source": [
    "mappings=som.win_map(X)\n",
    "frauds=mappings[(2,8)]\n",
    "# frauds=np.concatenate((mappings[(2,3)],mappings[(8,4)]),axis=1)\n",
    "frauds=sc.inverse_transform(frauds)"
   ]
  },
  {
   "cell_type": "code",
   "execution_count": 26,
   "metadata": {},
   "outputs": [
    {
     "data": {
      "text/plain": [
       "[array([0.75232352, 1.        , 0.19548872, 0.04017857, 0.5       ,\n",
       "        1.        , 0.875     , 0.04385965, 1.        , 0.        ,\n",
       "        0.        , 0.        , 0.5       , 0.        , 0.05298   ]),\n",
       " array([0.80274618, 0.        , 0.16165414, 0.01785714, 0.5       ,\n",
       "        0.76923077, 0.875     , 0.05263158, 1.        , 0.        ,\n",
       "        0.        , 0.        , 0.5       , 0.14      , 0.00824   ]),\n",
       " array([0.47654858, 0.        , 0.20932331, 0.05357143, 0.5       ,\n",
       "        0.46153846, 0.375     , 0.07017544, 1.        , 0.        ,\n",
       "        0.        , 0.        , 0.        , 0.184     , 0.        ]),\n",
       " array([0.92713301, 1.        , 0.14541353, 0.02089286, 0.5       ,\n",
       "        0.53846154, 0.875     , 0.00298246, 1.        , 0.        ,\n",
       "        0.        , 0.        , 0.5       , 0.09      , 0.        ]),\n",
       " array([0.82735685, 0.        , 0.21548872, 0.53571429, 0.        ,\n",
       "        0.69230769, 1.        , 0.        , 1.        , 0.        ,\n",
       "        0.        , 0.        , 0.5       , 0.        , 0.13212   ]),\n",
       " array([0.6764733 , 0.        , 0.40721805, 0.35714286, 0.5       ,\n",
       "        0.76923077, 0.875     , 0.06140351, 1.        , 0.        ,\n",
       "        0.        , 0.        , 0.5       , 0.0145    , 0.00837   ]),\n",
       " array([0.85063409, 1.        , 0.12526316, 0.39285714, 0.5       ,\n",
       "        0.92307692, 0.375     , 0.02333333, 1.        , 0.        ,\n",
       "        0.        , 0.        , 0.5       , 0.05      , 0.        ]),\n",
       " array([0.60831942, 0.        , 0.17172932, 0.10267857, 0.5       ,\n",
       "        1.        , 0.875     , 0.03070175, 1.        , 0.        ,\n",
       "        0.        , 0.        , 0.5       , 0.18      , 0.        ]),\n",
       " array([0.76672713, 0.        , 0.10646617, 0.10714286, 0.5       ,\n",
       "        0.38461538, 0.375     , 0.00140351, 1.        , 0.        ,\n",
       "        0.        , 0.        , 0.5       , 0.05      , 0.        ]),\n",
       " array([0.27983935, 0.        , 0.16285714, 0.02392857, 0.5       ,\n",
       "        0.38461538, 0.875     , 0.06140351, 1.        , 0.        ,\n",
       "        0.        , 0.        , 0.5       , 0.2       , 0.        ]),\n",
       " array([0.32626167, 0.        , 0.2793985 , 0.01928571, 0.5       ,\n",
       "        0.92307692, 0.375     , 0.00140351, 1.        , 0.        ,\n",
       "        0.        , 0.        , 0.5       , 0.22      , 0.11177   ]),\n",
       " array([0.98988904, 1.        , 0.42105263, 0.03428571, 0.5       ,\n",
       "        1.        , 0.375     , 0.0877193 , 1.        , 0.        ,\n",
       "        0.        , 0.        , 0.5       , 0.255     , 0.006     ]),\n",
       " array([0.25979362, 1.        , 0.56646617, 0.00142857, 0.5       ,\n",
       "        1.        , 0.875     , 0.00140351, 1.        , 0.        ,\n",
       "        0.        , 0.        , 0.5       , 0.        , 0.03      ]),\n",
       " array([0.8761978 , 1.        , 0.43729323, 0.16517857, 0.5       ,\n",
       "        0.76923077, 0.375     , 0.16070175, 1.        , 0.        ,\n",
       "        0.        , 0.        , 0.        , 0.        , 0.        ]),\n",
       " array([0.76719964, 1.        , 0.14406015, 0.05357143, 0.5       ,\n",
       "        0.53846154, 0.875     , 0.04964912, 1.        , 0.        ,\n",
       "        0.        , 0.        , 0.5       , 0.211     , 0.002     ]),\n",
       " array([0.23087026, 0.        , 0.45984962, 0.        , 0.5       ,\n",
       "        0.53846154, 0.375     , 0.0877193 , 1.        , 0.        ,\n",
       "        0.        , 0.        , 0.5       , 0.        , 0.        ]),\n",
       " array([0.91371847, 0.        , 0.2206015 , 0.125     , 0.5       ,\n",
       "        0.61538462, 0.375     , 0.02929825, 1.        , 0.        ,\n",
       "        0.        , 0.        , 0.        , 0.14      , 0.        ]),\n",
       " array([0.27187071, 0.        , 0.13789474, 0.41375   , 0.5       ,\n",
       "        0.92307692, 0.375     , 0.00140351, 1.        , 0.        ,\n",
       "        0.        , 0.        , 0.5       , 0.04      , 0.01349   ]),\n",
       " array([0.97108866, 1.        , 0.26796992, 0.375     , 0.5       ,\n",
       "        1.        , 0.375     , 0.22807018, 1.        , 0.        ,\n",
       "        0.        , 0.        , 0.5       , 0.        , 0.        ])]"
      ]
     },
     "execution_count": 26,
     "metadata": {},
     "output_type": "execute_result"
    }
   ],
   "source": [
    "frauds"
   ]
  },
  {
   "cell_type": "code",
   "execution_count": null,
   "metadata": {},
   "outputs": [],
   "source": []
  },
  {
   "cell_type": "code",
   "execution_count": null,
   "metadata": {},
   "outputs": [],
   "source": []
  }
 ],
 "metadata": {
  "kernelspec": {
   "display_name": "tf1",
   "language": "python",
   "name": "tf1"
  },
  "language_info": {
   "codemirror_mode": {
    "name": "ipython",
    "version": 3
   },
   "file_extension": ".py",
   "mimetype": "text/x-python",
   "name": "python",
   "nbconvert_exporter": "python",
   "pygments_lexer": "ipython3",
   "version": "3.7.7"
  }
 },
 "nbformat": 4,
 "nbformat_minor": 4
}
